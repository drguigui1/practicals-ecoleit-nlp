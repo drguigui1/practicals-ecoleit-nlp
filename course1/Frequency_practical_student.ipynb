{
  "cells": [
    {
      "cell_type": "markdown",
      "metadata": {
        "id": "pGx-4x1RvNH_"
      },
      "source": [
        "# Frequency Analysis 101"
      ]
    },
    {
      "cell_type": "markdown",
      "metadata": {
        "id": "5bJREfMyvNIC"
      },
      "source": [
        "In this exercise, you are tasked with:\n",
        "\n",
        "* Conducting initial processing of the given texts by breaking them down into tokens.\n",
        "* Executing a frequency analysis on the processed data and interpreting the results."
      ]
    },
    {
      "cell_type": "markdown",
      "metadata": {
        "id": "l3ikR1H4vNID"
      },
      "source": [
        "## Import data\n",
        "\n",
        "Documentation: http://www.nltk.org/book_1ed/ch02.html\n",
        "\n",
        "Import data from NLTK.\n",
        "You can use Gutenberg dataset:"
      ]
    },
    {
      "cell_type": "code",
      "execution_count": 1,
      "metadata": {
        "colab": {
          "base_uri": "https://localhost:8080/"
        },
        "id": "PD4UEPmhdLfd",
        "outputId": "de9a43e0-4cff-4c67-a95f-f317446ff92c"
      },
      "outputs": [
        {
          "name": "stderr",
          "output_type": "stream",
          "text": [
            "[nltk_data] Downloading package gutenberg to /root/nltk_data...\n",
            "[nltk_data]   Unzipping corpora/gutenberg.zip.\n"
          ]
        }
      ],
      "source": [
        "import nltk\n",
        "nltk.download('gutenberg')\n",
        "from nltk.corpus import gutenberg"
      ]
    },
    {
      "cell_type": "code",
      "execution_count": 6,
      "metadata": {
        "colab": {
          "base_uri": "https://localhost:8080/"
        },
        "id": "xOTYSvFFvNID",
        "outputId": "f7f08a29-db79-4be0-926c-abe7f2e0e242"
      },
      "outputs": [
        {
          "name": "stdout",
          "output_type": "stream",
          "text": [
            "18\n",
            "[FILE] austen-emma.txt\n",
            "[Emma by Jane Austen 1816]\n",
            "\n",
            "VOLUME I\n",
            "\n",
            "CHAPTER I\n",
            "\n",
            "\n",
            "\n",
            "[FILE] austen-persuasion.txt\n",
            "[Persuasion by Jane Austen 1818]\n",
            "\n",
            "\n",
            "Chapter 1\n",
            "\n",
            "\n",
            "Sir\n",
            "[FILE] austen-sense.txt\n",
            "[Sense and Sensibility by Jane Austen 1811]\n",
            "\n",
            "CHAPT\n",
            "[FILE] bible-kjv.txt\n",
            "[The King James Bible]\n",
            "\n",
            "The Old Testament of the K\n",
            "[FILE] blake-poems.txt\n",
            "[Poems by William Blake 1789]\n",
            "\n",
            " \n",
            "SONGS OF INNOCENC\n",
            "[FILE] bryant-stories.txt\n",
            "[Stories to Tell to Children by Sara Cone Bryant 1\n",
            "[FILE] burgess-busterbrown.txt\n",
            "[The Adventures of Buster Bear by Thornton W. Burg\n",
            "[FILE] carroll-alice.txt\n",
            "[Alice's Adventures in Wonderland by Lewis Carroll\n",
            "[FILE] chesterton-ball.txt\n",
            "[The Ball and The Cross by G.K. Chesterton 1909]\n",
            "\n",
            "\n",
            "[FILE] chesterton-brown.txt\n",
            "[The Wisdom of Father Brown by G. K. Chesterton 19\n",
            "[FILE] chesterton-thursday.txt\n",
            "[The Man Who Was Thursday by G. K. Chesterton 1908\n",
            "[FILE] edgeworth-parents.txt\n",
            "[The Parent's Assistant, by Maria Edgeworth]\r\n",
            "\r\n",
            "\r\n",
            "\n",
            "[FILE] melville-moby_dick.txt\n",
            "[Moby Dick by Herman Melville 1851]\r\n",
            "\r\n",
            "\r\n",
            "ETYMOLOGY\n",
            "[FILE] milton-paradise.txt\n",
            "[Paradise Lost by John Milton 1667] \n",
            " \n",
            " \n",
            "Book I \n",
            " \n",
            "[FILE] shakespeare-caesar.txt\n",
            "[The Tragedie of Julius Caesar by William Shakespe\n",
            "[FILE] shakespeare-hamlet.txt\n",
            "[The Tragedie of Hamlet by William Shakespeare 159\n",
            "[FILE] shakespeare-macbeth.txt\n",
            "[The Tragedie of Macbeth by William Shakespeare 16\n",
            "[FILE] whitman-leaves.txt\n",
            "[Leaves of Grass by Walt Whitman 1855]\n",
            "\n",
            "\n",
            "Come, sai\n"
          ]
        }
      ],
      "source": [
        "ids = gutenberg.fileids()\n",
        "print(len(ids))\n",
        "\n",
        "for fileid in ids:\n",
        "    print(f\"[FILE] {fileid}\")\n",
        "    print(gutenberg.raw(fileid)[:50])"
      ]
    },
    {
      "cell_type": "markdown",
      "metadata": {
        "id": "TjTSsQxCvNIF"
      },
      "source": [
        "## Use NLTK's FreqDist functionality\n",
        "\n",
        "Use the `FreqDist` functionality as shown in https://www.nltk.org/book/ch01.html and http://www.nltk.org/book_1ed/ch02.html.\n",
        "\n",
        "Use the FreqDist class by passing your list of tokens to it. This will create an object containing the frequency distribution of all tokens within your text, which you can then analyze."
      ]
    },
    {
      "cell_type": "code",
      "execution_count": null,
      "metadata": {
        "colab": {
          "base_uri": "https://localhost:8080/"
        },
        "id": "wbBjxurmvNIG",
        "outputId": "1fcc13af-c4e5-4001-c42b-43940a52ae8b"
      },
      "outputs": [
        {
          "name": "stdout",
          "output_type": "stream",
          "text": [
            "[(',', 11454), ('.', 6928), ('to', 5183), ('the', 4844), ('and', 4672), ('of', 4279), ('I', 3178), ('a', 3004), ('was', 2385), ('her', 2381), (';', 2199), ('it', 2128), ('in', 2118), ('not', 2101), ('\"', 2004), ('be', 1970), ('she', 1778), ('that', 1730), ('you', 1677), ('had', 1606)]\n"
          ]
        }
      ],
      "source": [
        "# Load a specific text\n",
        "tokens = gutenberg.words('austen-emma.txt')\n",
        "\n",
        "# Print out most frequent 50 words with their counts. \n",
        "# You need to use most_common(number_of_words) method applied to fdist1"
      ]
    },
    {
      "cell_type": "markdown",
      "metadata": {
        "id": "SCo6tkIPvNIG"
      },
      "source": [
        "What can you tell about the most frequent words in this text?\n",
        "\n",
        "---\n",
        "\n",
        "\n",
        "\n",
        "Let's try visualising cumulative frequency of the most frequent $30$ words:"
      ]
    },
    {
      "cell_type": "code",
      "execution_count": null,
      "metadata": {
        "colab": {
          "base_uri": "https://localhost:8080/",
          "height": 470
        },
        "id": "IR6t9JmRvNIH",
        "outputId": "82d60288-1321-49d4-c49e-3cac7d84b8ba"
      },
      "outputs": [],
      "source": [
        "import matplotlib.pyplot as plt\n",
        "\n",
        "# You need to use plot(number_of_words, cumulative=True) method applied to fdist1"
      ]
    },
    {
      "cell_type": "markdown",
      "metadata": {
        "id": "Am-GSKpwvNIH"
      },
      "source": [
        "What does this plot suggest?"
      ]
    },
    {
      "cell_type": "markdown",
      "metadata": {
        "id": "j4BUICc0vNIH"
      },
      "source": [
        "## FreqDist from scratch\n",
        "\n",
        "Follow these steps:\n",
        "- Collect words\n",
        "- calculate their frequency\n",
        "- return a dictionary sorted in the reverse order"
      ]
    },
    {
      "cell_type": "code",
      "execution_count": 14,
      "metadata": {
        "colab": {
          "base_uri": "https://localhost:8080/"
        },
        "id": "LiMFslffvNII",
        "outputId": "395af079-6d7d-426d-f139-a4c6f0c710bb"
      },
      "outputs": [
        {
          "name": "stdout",
          "output_type": "stream",
          "text": [
            "[(',', 11454), ('.', 6928), ('to', 5183), ('the', 4844), ('and', 4672), ('of', 4279), ('I', 3178), ('a', 3004), ('was', 2385), ('her', 2381)]\n"
          ]
        }
      ],
      "source": [
        "import operator\n",
        "\n",
        "# update the count for a_word in word_map by 1. \n",
        "# word_map.get(a_word) returns the current count,\n",
        "# word_map.get(a_word, 0) allows you to cover cases where current word count is 0 \n",
        "\n",
        "def collect_word_map(word_list):\n",
        "    word_map = {}\n",
        "    for a_word in word_list:\n",
        "        word_map[a_word] = # FIXME\n",
        "    return word_map\n",
        "\n",
        "# Let's sort the word frequency map by word counts,\n",
        "# starting from the largest count (reverse order),\n",
        "# and print up to 10 most frequent words\n",
        "word_map = collect_word_map(gutenberg.words(\"austen-emma.txt\"))\n",
        "sorted_map = (sorted(word_map.items(), key=operator.itemgetter(1)))[::-1]\n",
        "print(sorted_map[:10])"
      ]
    },
    {
      "cell_type": "markdown",
      "metadata": {
        "id": "R-EO5_aHvNII"
      },
      "source": [
        "Let's calculate the percentage of the content covered by specific (most frequent) words. E.g., what percentage of words used in text are commas?"
      ]
    },
    {
      "cell_type": "code",
      "execution_count": 15,
      "metadata": {
        "colab": {
          "base_uri": "https://localhost:8080/"
        },
        "id": "WEo1WDStvNIJ",
        "outputId": "4ac694d2-928b-4a72-e407-34669281a8e8"
      },
      "outputs": [
        {
          "name": "stdout",
          "output_type": "stream",
          "text": [
            "[(',', 5.952387139018953), ('.', 3.60032635752779), ('to', 2.6934889594495575), ('the', 2.5173182557541303), ('and', 2.4279337099263616), ('of', 2.2237004162617513), ('I', 1.6515353874456287), ('a', 1.5611114864338165), ('was', 1.2394310569722544), ('her', 1.2373523466041667), (';', 1.1427710248561793), ('it', 1.1058739158226236), ('in', 1.1006771399024045), ('not', 1.091842620838032), ('\"', 1.0414338944119068), ('be', 1.0237648562831618), ('she', 0.9239867586149553), ('that', 0.8990422341979036), ('you', 0.8714993218207424), ('had', 0.8346022127871868), ('as', 0.7207928201343886), ('--', 0.718194432174279), ('he', 0.7093599131099066), ('for', 0.6864940990609426), ('have', 0.6761005472205044), ('is', 0.6340066622667297), ('with', 0.6168573017300067), ('Mr', 0.5991882636012618), ('very', 0.5981489084172179), ('but', 0.5965898756411522), ('.\"', 0.5913930997209331), ('his', 0.5654092201198376), (\"'\", 0.523315335166063), ('at', 0.5181185592458438), ('s', 0.4848591933564417), ('so', 0.4801820950282445), ('Emma', 0.4495211170989518), ('all', 0.43393078933829454), ('could', 0.42873401341807543), ('would', 0.4235372374978563), ('been', 0.3944352923446294), ('him', 0.3939156147526075), ('Mrs', 0.3632546368233148), ('.--', 0.35597915053500806), ('on', 0.3518217297988328), ('any', 0.33831011240626313), ('my', 0.32168042946156206), ('no', 0.32012139668549633), ('Miss', 0.3076491344769705), ('were', 0.3071294568849486)]\n"
          ]
        }
      ],
      "source": [
        "# Sort the word frequency map by word counts, starting from the largest count (reverse order)\n",
        "\n",
        "def collect_percentage_map(word_map, up_to):\n",
        "    total_count = sum(word_map.values())\n",
        "    sorted_map = # FIXME\n",
        "    percentage_map = [(item[0], 100*float(item[1])/float(total_count)) for item in sorted_map[:up_to]]\n",
        "    return percentage_map\n",
        "\n",
        "print(collect_percentage_map(word_map, 50))"
      ]
    },
    {
      "cell_type": "markdown",
      "metadata": {
        "id": "xclNXqmevNIJ"
      },
      "source": [
        "Visualise the cumulative frequency counts as a histogram:"
      ]
    },
    {
      "cell_type": "code",
      "execution_count": 17,
      "metadata": {
        "colab": {
          "base_uri": "https://localhost:8080/",
          "height": 489
        },
        "id": "do3HtEUsvNIK",
        "outputId": "4af6f4a0-8e50-4d5a-d29c-8f47259a17be"
      },
      "outputs": [
        {
          "name": "stdout",
          "output_type": "stream",
          "text": [
            "Total cumulative coverage = 50.05%\n"
          ]
        },
        {
          "data": {
            "image/png": "[encoded data removed]",
            "text/plain": [
              "<Figure size 640x480 with 1 Axes>"
            ]
          },
          "metadata": {},
          "output_type": "display_data"
        }
      ],
      "source": [
        "import numpy as np\n",
        "import matplotlib.ticker as ticker\n",
        "import matplotlib.pyplot as plt\n",
        "%matplotlib inline\n",
        "\n",
        "def visualise_dist(word_map, up_to):\n",
        "    width = 10.0\n",
        "    percentage_map = collect_percentage_map(word_map, up_to)\n",
        "    sort_map = {}\n",
        "    rank = 0\n",
        "    cum_sum = 0\n",
        "    # Store cumulative percetage of coverage\n",
        "    for item in percentage_map:\n",
        "        rank += 1\n",
        "        cum_sum += item[1]\n",
        "        sort_map[rank] = cum_sum\n",
        "    # How much do the top n words account for?\n",
        "    print(\"Total cumulative coverage = %.2f\" % cum_sum + \"%\")\n",
        "\n",
        "    fig, ax = plt.subplots()\n",
        "    plt.title(\"Cumulative coverage of the top \" + str(up_to) + \" words\")\n",
        "    plt.ylabel(\"Percentage\")\n",
        "    plt.xlabel(\"Top \" + str(up_to) + \" words\")\n",
        "    # Build the histogram for the percentages\n",
        "    plt.bar(range(len(sort_map)), sort_map.values())\n",
        "    # Label x axis with the ranks of the 1st to n-th most frequent word\n",
        "    # printing out each 5-th label on the axis\n",
        "    start, end = ax.get_xlim()\n",
        "    ax.xaxis.set_ticks(np.arange(start, end+1, 5))\n",
        "    plt.show()\n",
        "\n",
        "# Explore statistics with a different number of top n words\n",
        "visualise_dist(word_map, 50)"
      ]
    },
    {
      "cell_type": "markdown",
      "metadata": {
        "id": "gUBpsv2gvNIL"
      },
      "source": [
        "What does this cumulative distribution suggest?"
      ]
    },
    {
      "cell_type": "code",
      "execution_count": null,
      "metadata": {
        "id": "rlwbB0HdvNIL"
      },
      "outputs": [],
      "source": []
    }
  ],
  "metadata": {
    "colab": {
      "provenance": []
    },
    "kernelspec": {
      "display_name": "Python 3",
      "language": "python",
      "name": "python3"
    },
    "language_info": {
      "codemirror_mode": {
        "name": "ipython",
        "version": 3
      },
      "file_extension": ".py",
      "mimetype": "text/x-python",
      "name": "python",
      "nbconvert_exporter": "python",
      "pygments_lexer": "ipython3",
      "version": "3.7.6"
    }
  },
  "nbformat": 4,
  "nbformat_minor": 0
}
