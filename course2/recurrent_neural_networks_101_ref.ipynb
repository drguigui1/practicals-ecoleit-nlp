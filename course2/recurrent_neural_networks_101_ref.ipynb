{
  "nbformat": 4,
  "nbformat_minor": 0,
  "metadata": {
    "colab": {
      "provenance": []
    },
    "kernelspec": {
      "name": "python3",
      "display_name": "Python 3"
    },
    "language_info": {
      "name": "python"
    }
  },
  "cells": [
    {
      "cell_type": "markdown",
      "source": [
        "# Recurrent models 101"
      ],
      "metadata": {
        "id": "eqrIflpUDm0Y"
      }
    },
    {
      "cell_type": "markdown",
      "source": [
        "Introduction:\n",
        "Recurrent Neural Networks (RNNs), Gated Recurrent Units (GRUs), and Long Short-Term Memory networks (LSTMs) are powerful tools in the realm of deep learning, particularly for sequential data tasks. In this practical, we'll delve into the basics of these architectures, implement simple models using PyTorch, and verify their functionality by feeding them random data of varying sizes."
      ],
      "metadata": {
        "id": "K8w6o6rKDopU"
      }
    },
    {
      "cell_type": "markdown",
      "source": [
        "In this practical, you are going to implement small recurrent models (RNNs, GRUs, LSTMs ...) and test them using different input values.\n",
        "\n"
      ],
      "metadata": {
        "id": "1b-aXZ3sDyal"
      }
    },
    {
      "cell_type": "code",
      "source": [
        "import torch\n",
        "import torch.nn as nn\n",
        "import torch.optim as optim"
      ],
      "metadata": {
        "id": "5x_QfafDEaQy"
      },
      "execution_count": 3,
      "outputs": []
    },
    {
      "cell_type": "markdown",
      "source": [
        "### RNN"
      ],
      "metadata": {
        "id": "6bK9ZQ80EIWN"
      }
    },
    {
      "cell_type": "markdown",
      "source": [
        "Implement a small RNN model with a single RNN layer\n",
        "\n",
        "You can have a look at pytorch documentation: https://pytorch.org/docs/stable/generated/torch.nn.RNN.html\n",
        "\n",
        "In the model, just give the output and the hidden state of the RNN"
      ],
      "metadata": {
        "id": "65yceCRkEJe3"
      }
    },
    {
      "cell_type": "code",
      "source": [
        "class SimpleRNN(nn.Module):\n",
        "    def __init__(self, input_size, hidden_size):\n",
        "        super(SimpleRNN, self).__init__()\n",
        "        self.rnn = nn.RNN(input_size, hidden_size, batch_first=True)\n",
        "\n",
        "    def forward(self, x):\n",
        "        out, h = self.rnn(x)\n",
        "        return out, h"
      ],
      "metadata": {
        "id": "MIN3eWPjEdTT"
      },
      "execution_count": 6,
      "outputs": []
    },
    {
      "cell_type": "markdown",
      "source": [
        "Let's test your model. Test it with different sequence length"
      ],
      "metadata": {
        "id": "2-zXpcR-FjIR"
      }
    },
    {
      "cell_type": "code",
      "source": [
        "# TEST your model, and send random data with torch.randn\n",
        "\n",
        "# Define the model\n",
        "input_size = 10\n",
        "hidden_size = 20\n",
        "batch_size = 3\n",
        "seq_length = 10  # Sequence length for testing\n",
        "\n",
        "model = SimpleRNN(input_size, hidden_size)\n",
        "\n",
        "# Generate random data\n",
        "input_data = torch.randn(batch_size, seq_length, input_size)\n",
        "\n",
        "# Perform inference\n",
        "output, hidden_state = model(input_data)\n",
        "\n",
        "print(\"Output shape:\", output.shape)\n",
        "print(\"Hidden state shape:\", hidden_state.shape)"
      ],
      "metadata": {
        "colab": {
          "base_uri": "https://localhost:8080/"
        },
        "id": "-bI1owYIFRGp",
        "outputId": "346a04a3-3cd4-40cc-c7bb-ea61f8453fe9"
      },
      "execution_count": 7,
      "outputs": [
        {
          "output_type": "stream",
          "name": "stdout",
          "text": [
            "Output shape: torch.Size([3, 10, 20])\n",
            "Hidden state shape: torch.Size([1, 3, 20])\n"
          ]
        }
      ]
    },
    {
      "cell_type": "markdown",
      "source": [
        "Now implement a bidirectional RNN, you just have one line to change"
      ],
      "metadata": {
        "id": "aoV8lSDVFFoi"
      }
    },
    {
      "cell_type": "code",
      "source": [
        "class BidirectionalRNN(nn.Module):\n",
        "    def __init__(self, input_size, hidden_size):\n",
        "        super(BidirectionalRNN, self).__init__()\n",
        "        self.rnn = nn.RNN(input_size, hidden_size, batch_first=True, bidirectional=True)\n",
        "\n",
        "    def forward(self, x):\n",
        "        out, h = self.rnn(x)\n",
        "        return out, h"
      ],
      "metadata": {
        "id": "HdSepL6GFPmi"
      },
      "execution_count": 8,
      "outputs": []
    },
    {
      "cell_type": "code",
      "source": [
        "# TEST your model, and send random data with torch.randn\n",
        "\n",
        "# Define the model\n",
        "input_size = 10\n",
        "hidden_size = 20\n",
        "batch_size = 3\n",
        "seq_length = 10  # Sequence length for testing\n",
        "\n",
        "model = BidirectionalRNN(input_size, hidden_size)\n",
        "\n",
        "# Generate random data\n",
        "input_data = torch.randn(batch_size, seq_length, input_size)\n",
        "\n",
        "# Perform inference\n",
        "output, hidden_state = model(input_data)\n",
        "\n",
        "print(\"Output shape:\", output.shape)\n",
        "print(\"Hidden state shape:\", hidden_state.shape)"
      ],
      "metadata": {
        "colab": {
          "base_uri": "https://localhost:8080/"
        },
        "id": "JsCUJbA3Kzu7",
        "outputId": "154ccea3-4e4b-40ef-f200-6f070eac4579"
      },
      "execution_count": 9,
      "outputs": [
        {
          "output_type": "stream",
          "name": "stdout",
          "text": [
            "Output shape: torch.Size([3, 10, 40])\n",
            "Hidden state shape: torch.Size([2, 3, 20])\n"
          ]
        }
      ]
    },
    {
      "cell_type": "markdown",
      "source": [
        "Let's implement stacked RNNs (use multiple layers of the model)"
      ],
      "metadata": {
        "id": "47LVlxBGFWcS"
      }
    },
    {
      "cell_type": "code",
      "source": [
        "class BidirectionalRNN(nn.Module):\n",
        "    def __init__(self, input_size, hidden_size):\n",
        "        super(BidirectionalRNN, self).__init__()\n",
        "        self.rnn = nn.RNN(input_size, hidden_size, batch_first=True, num_layers=5)\n",
        "\n",
        "    def forward(self, x):\n",
        "        out, h = self.rnn(x)\n",
        "        return out, h"
      ],
      "metadata": {
        "id": "mxRWEyN_FZXz"
      },
      "execution_count": 13,
      "outputs": []
    },
    {
      "cell_type": "code",
      "source": [
        "# TEST your model, and send random data with torch.randn\n",
        "\n",
        "# Define the model\n",
        "input_size = 10\n",
        "hidden_size = 20\n",
        "batch_size = 3\n",
        "seq_length = 15  # Sequence length for testing\n",
        "\n",
        "model = BidirectionalRNN(input_size, hidden_size)\n",
        "\n",
        "# Generate random data\n",
        "input_data = torch.randn(batch_size, seq_length, input_size)\n",
        "\n",
        "# Perform inference\n",
        "output, hidden_state = model(input_data)\n",
        "\n",
        "print(\"Output shape:\", output.shape)\n",
        "print(\"Hidden state shape:\", hidden_state.shape)"
      ],
      "metadata": {
        "colab": {
          "base_uri": "https://localhost:8080/"
        },
        "id": "tzq_4Sd9MJFR",
        "outputId": "4c41e402-7e12-432c-828e-2c778d273450"
      },
      "execution_count": 14,
      "outputs": [
        {
          "output_type": "stream",
          "name": "stdout",
          "text": [
            "Output shape: torch.Size([3, 15, 20])\n",
            "Hidden state shape: torch.Size([5, 3, 20])\n"
          ]
        }
      ]
    },
    {
      "cell_type": "markdown",
      "source": [
        "Now connect one of the previous models with a single linear layer for binary classification.\n",
        "\n",
        "Use the last output generated by the model"
      ],
      "metadata": {
        "id": "SPgGrbNwFZkz"
      }
    },
    {
      "cell_type": "code",
      "source": [
        "# Define RNN model\n",
        "class SimpleRNN(nn.Module):\n",
        "    def __init__(self, input_size, hidden_size):\n",
        "        super(SimpleRNN, self).__init__()\n",
        "        self.rnn = nn.RNN(input_size, hidden_size, batch_first=True)\n",
        "        self.fc = nn.Linear(hidden_size, 1)\n",
        "\n",
        "    def forward(self, x):\n",
        "        out, _ = self.rnn(x)\n",
        "        out = self.fc(out[:, -1, :])\n",
        "        return out"
      ],
      "metadata": {
        "id": "3BR0wP-8Ff_g"
      },
      "execution_count": 16,
      "outputs": []
    },
    {
      "cell_type": "code",
      "source": [
        "# TEST your model, and send random data with torch.randn\n",
        "\n",
        "# Set model parameters\n",
        "input_size = 10\n",
        "hidden_size = 20\n",
        "batch_size = 3\n",
        "seq_length = 15\n",
        "\n",
        "# Instantiate the model\n",
        "model = SimpleRNN(input_size, hidden_size)\n",
        "\n",
        "# Generate random input data\n",
        "input_data = torch.randn(batch_size, seq_length, input_size)\n",
        "\n",
        "# Pass input data through the model\n",
        "output = model(input_data)\n",
        "\n",
        "# Interpret the model's output\n",
        "print(\"Output shape:\", output.shape)"
      ],
      "metadata": {
        "colab": {
          "base_uri": "https://localhost:8080/"
        },
        "id": "g8lkq4GPE41k",
        "outputId": "ed0c90e3-db31-4108-ad78-cbfcb0dcf109"
      },
      "execution_count": 18,
      "outputs": [
        {
          "output_type": "stream",
          "name": "stdout",
          "text": [
            "Output shape: torch.Size([3, 1])\n"
          ]
        }
      ]
    },
    {
      "cell_type": "markdown",
      "source": [
        "Now implement a simple GRU model, without any Linear layer\n",
        "\n",
        "You can check pytorch documentation: https://pytorch.org/docs/stable/generated/torch.nn.GRU.html"
      ],
      "metadata": {
        "id": "AY095ZoiN5YA"
      }
    },
    {
      "cell_type": "code",
      "source": [
        "# Define GRU model\n",
        "class SimpleGRU(nn.Module):\n",
        "    def __init__(self, input_size, hidden_size):\n",
        "        super(SimpleGRU, self).__init__()\n",
        "        self.gru = nn.GRU(input_size, hidden_size, batch_first=True)\n",
        "\n",
        "    def forward(self, x):\n",
        "        out, hidden = self.gru(x)\n",
        "        return out, hidden"
      ],
      "metadata": {
        "id": "jp52EZ48N8xf"
      },
      "execution_count": 23,
      "outputs": []
    },
    {
      "cell_type": "code",
      "source": [
        "# TEST your model, and send random data with torch.randn\n",
        "\n",
        "# Set model parameters\n",
        "input_size = 10\n",
        "hidden_size = 20\n",
        "batch_size = 3\n",
        "seq_length = 15\n",
        "\n",
        "# Instantiate the model\n",
        "model = SimpleGRU(input_size, hidden_size)\n",
        "\n",
        "# Generate random input data\n",
        "input_data = torch.randn(batch_size, seq_length, input_size)\n",
        "\n",
        "# Pass input data through the model\n",
        "output, hidden = model(input_data)\n",
        "\n",
        "# Interpret the model's output\n",
        "print(\"Output shape:\", output.shape)\n",
        "print(\"Hidden shape:\", hidden.shape)"
      ],
      "metadata": {
        "colab": {
          "base_uri": "https://localhost:8080/"
        },
        "id": "0F0MN0XkODL6",
        "outputId": "f42fc388-2d89-4ed2-82c9-94829295cebf"
      },
      "execution_count": 25,
      "outputs": [
        {
          "output_type": "stream",
          "name": "stdout",
          "text": [
            "Output shape: torch.Size([3, 15, 20])\n",
            "Hidden shape: torch.Size([1, 3, 20])\n"
          ]
        }
      ]
    },
    {
      "cell_type": "markdown",
      "source": [
        "Implement a small LSTM model. Return the output and the hidden state.\n",
        "\n",
        "You can check pytorch documentation.\n",
        "\n",
        "https://pytorch.org/docs/stable/generated/torch.nn.LSTM.html#torch.nn.LSTM"
      ],
      "metadata": {
        "id": "FamzExwUPZOZ"
      }
    },
    {
      "cell_type": "code",
      "source": [
        "# Define LSTM model\n",
        "class SimpleLSTM(nn.Module):\n",
        "    def __init__(self, input_size, hidden_size):\n",
        "        super(SimpleLSTM, self).__init__()\n",
        "        self.lstm = nn.LSTM(input_size, hidden_size, batch_first=True)\n",
        "\n",
        "    def forward(self, x):\n",
        "        out, hidden = self.lstm(x)\n",
        "        return out, hidden"
      ],
      "metadata": {
        "id": "rVsqa2t9Phn3"
      },
      "execution_count": 34,
      "outputs": []
    },
    {
      "cell_type": "code",
      "source": [
        "# TEST your model, and send random data with torch.randn\n",
        "\n",
        "# Set model parameters\n",
        "input_size = 10\n",
        "hidden_size = 20\n",
        "batch_size = 3\n",
        "seq_length = 15\n",
        "\n",
        "# Instantiate the model\n",
        "model = SimpleLSTM(input_size, hidden_size)\n",
        "\n",
        "# Generate random input data\n",
        "input_data = torch.randn(batch_size, seq_length, input_size)\n",
        "\n",
        "# Pass input data through the model\n",
        "output, hidden = model(input_data)\n",
        "\n",
        "# Interpret the model's output\n",
        "print(\"Output shape:\", output.shape)\n",
        "print(\"Hidden shape:\", hidden[0].shape)\n",
        "print(\"Cell shape:\", hidden[1].shape)"
      ],
      "metadata": {
        "colab": {
          "base_uri": "https://localhost:8080/"
        },
        "id": "4zFF8o5_OFAj",
        "outputId": "882b83ee-8666-48eb-e076-abdc1d6297e0"
      },
      "execution_count": 35,
      "outputs": [
        {
          "output_type": "stream",
          "name": "stdout",
          "text": [
            "Output shape: torch.Size([3, 15, 20])\n",
            "Hidden shape: torch.Size([1, 3, 20])\n",
            "Cell shape: torch.Size([1, 3, 20])\n"
          ]
        }
      ]
    }
  ]
}