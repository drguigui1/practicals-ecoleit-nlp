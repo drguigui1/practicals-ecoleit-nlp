{
  "cells": [
    {
      "cell_type": "markdown",
      "metadata": {
        "id": "6kSxyUdVobgd"
      },
      "source": [
        "# Word embeddings 101"
      ]
    },
    {
      "cell_type": "markdown",
      "metadata": {
        "id": "PHm1lRG_oywq"
      },
      "source": [
        "Word vectors represent a group of techniques that gained prominence with the introduction of Word2Vec. These methods assign an n-dimensional vector (typically, n ranges from 50 to 300, and for our purposes, it will be a specific value within this range) to each word in a given language.\n",
        "\n",
        "In this session, we'll start by exploring ConceptNet Numberbatch, a set of word vectors known for their superior performance and reduced propensity to reflect human biases. While delving into the creation of these word vectors might be a bit too advanced for our current scope, we recommend a two-part blog post for those interested in a thorough introduction. https://mccormickml.com/2016/04/19/word2vec-tutorial-the-skip-gram-model/\n",
        "\n",
        "Our agenda includes the following key topics:\n",
        "\n",
        "- Maximizing the benefits of this notebook,\n",
        "- Calculating distances between word vectors,\n",
        "- The linear structure of word vectors and the concept of subtraction,\n",
        "- Performing reverse lookups,\n",
        "- The application of word vectors in solving analogies,\n",
        "- Visualizing word vectors through Principal Component Analysis (PCA)."
      ]
    },
    {
      "cell_type": "code",
      "execution_count": null,
      "metadata": {
        "id": "Wvs65MWJ1yyq"
      },
      "outputs": [],
      "source": [
        "!wget https://conceptnet.s3.amazonaws.com/downloads/2017/numberbatch/numberbatch-en-17.06.txt.gz"
      ]
    },
    {
      "cell_type": "markdown",
      "metadata": {
        "id": "tQ9NniK6plju"
      },
      "source": [
        "Uncompress the data using gzip"
      ]
    },
    {
      "cell_type": "code",
      "execution_count": 2,
      "metadata": {
        "id": "1wTw-B1ypRbB"
      },
      "outputs": [],
      "source": [
        "!gzip -d numberbatch-en-17.06.txt.gz"
      ]
    },
    {
      "cell_type": "markdown",
      "metadata": {
        "id": "vdadc715pwLa"
      },
      "source": [
        "Now let's load the data"
      ]
    },
    {
      "cell_type": "code",
      "execution_count": 3,
      "metadata": {
        "id": "v-o4iiZnpkAq"
      },
      "outputs": [],
      "source": [
        "# Load our libraries\n",
        "import pandas as pd\n",
        "import numpy as np\n",
        "\n",
        "# Load word vectors\n",
        "words = pd.read_csv(\n",
        "    # FIXME\n",
        ").transpose()"
      ]
    },
    {
      "cell_type": "markdown",
      "metadata": {},
      "source": [
        "Display the sape of the dataframe"
      ]
    },
    {
      "cell_type": "code",
      "execution_count": null,
      "metadata": {},
      "outputs": [],
      "source": [
        "# FIXME"
      ]
    },
    {
      "cell_type": "markdown",
      "metadata": {
        "id": "LjDnu85VqKhn"
      },
      "source": [
        "Display the vector for the work \"house\""
      ]
    },
    {
      "cell_type": "code",
      "execution_count": null,
      "metadata": {},
      "outputs": [],
      "source": [
        "# FIXME"
      ]
    },
    {
      "cell_type": "markdown",
      "metadata": {
        "id": "17ddj6zzqQBe"
      },
      "source": [
        "### Compute the distances"
      ]
    },
    {
      "cell_type": "markdown",
      "metadata": {
        "id": "AhoSwdZJqcFA"
      },
      "source": [
        "In our exploration of 'manipulation primitives,' a crucial skill is the ability to measure the distances between vectors corresponding to words. We'll begin by crafting a code snippet for this purpose, with numpy simplifying the process significantly. It's important to note that shorter distances between word vectors signify greater similarity between the words. To illustrate this concept, we'll develop a piece of code that accepts three words and determines whether the first word is more similar (i.e., closer in vector space) to the second word than to the third."
      ]
    },
    {
      "cell_type": "code",
      "execution_count": 6,
      "metadata": {
        "id": "RUK_oUG_qM4-"
      },
      "outputs": [],
      "source": [
        "# define the distance between two words\n",
        "def dist(w1,w2) :\n",
        "    # FIXME\n",
        "\n",
        "# Say if w1 is closer to w2 than w3\n",
        "def distCompare(w1, w2, w3) :\n",
        "    # FIXME"
      ]
    },
    {
      "cell_type": "code",
      "execution_count": 7,
      "metadata": {
        "colab": {
          "base_uri": "https://localhost:8080/"
        },
        "id": "bm_GySIRrpY4",
        "outputId": "6a1f3389-3b34-4072-bbc8-2f32f7e69396"
      },
      "outputs": [
        {
          "name": "stdout",
          "output_type": "stream",
          "text": [
            "orb is closer to ball than hockey\n",
            "picked is closer to lifted than play\n",
            "pink is closer to red than blue\n"
          ]
        }
      ],
      "source": [
        "distCompare('orb','ball','hockey')\n",
        "distCompare('picked','lifted','play')\n",
        "distCompare('pink','red','blue')"
      ]
    },
    {
      "cell_type": "markdown",
      "metadata": {
        "id": "ztGrg5NvI8a9"
      },
      "source": [
        "This observation largely aligns with our expectations. Should you probe further, you'll encounter instances that might defy your predictions—for example, the assertion that 'maroon' is more akin to 'blue' than to 'red'. However, generally speaking, the principle that words sharing similarities tend to cluster nearby each other holds true."
      ]
    },
    {
      "cell_type": "markdown",
      "metadata": {
        "id": "X_B6DHhvKkrJ"
      },
      "source": [
        "### Display and plot embeddings"
      ]
    },
    {
      "cell_type": "markdown",
      "metadata": {
        "id": "xftFN6DZJcsG"
      },
      "source": [
        "Now display the values for the words \"red\" and \"blue\""
      ]
    },
    {
      "cell_type": "code",
      "execution_count": null,
      "metadata": {},
      "outputs": [],
      "source": [
        "# FIXME"
      ]
    },
    {
      "cell_type": "markdown",
      "metadata": {
        "id": "bZ4e50RLJkaF"
      },
      "source": [
        "Make a plot for both embeddings\n"
      ]
    },
    {
      "cell_type": "code",
      "execution_count": 14,
      "metadata": {
        "id": "T1lZLIB_Jj8J"
      },
      "outputs": [],
      "source": [
        "import matplotlib.pyplot as plt"
      ]
    },
    {
      "cell_type": "code",
      "execution_count": null,
      "metadata": {},
      "outputs": [],
      "source": [
        "# FIXME"
      ]
    },
    {
      "cell_type": "markdown",
      "metadata": {
        "id": "i0-S9f_bJvS9"
      },
      "source": [
        "Make a plot for house"
      ]
    },
    {
      "cell_type": "code",
      "execution_count": null,
      "metadata": {},
      "outputs": [],
      "source": [
        "# FIXME"
      ]
    },
    {
      "cell_type": "markdown",
      "metadata": {
        "id": "55Ph9CjTJ5TE"
      },
      "source": [
        "The fascination with word vectors extends far beyond their ability to place similar words in close proximity; it stems from their nuanced and intricate grasp of word meanings. Unpacking the depth of this understanding will require time, but a key concept to embrace is the idea that \"relationships equal directions.\" This means that words sharing a common relationship will consistently diverge from each other in a specific direction.\n",
        "\n",
        "Our exploration of this concept is facilitated by vector subtraction, a process that might seem straightforward at a glance:\n",
        "\n",
        "`diff = v - w`"
      ]
    },
    {
      "cell_type": "markdown",
      "metadata": {
        "id": "FnYdPkPYJ8JH"
      },
      "source": [
        "Make the difference between the word red and the word blue"
      ]
    },
    {
      "cell_type": "code",
      "execution_count": null,
      "metadata": {},
      "outputs": [],
      "source": [
        "# FIXME"
      ]
    },
    {
      "cell_type": "markdown",
      "metadata": {
        "id": "BVm9lUWYKAOD"
      },
      "source": [
        "And now plot the result"
      ]
    },
    {
      "cell_type": "code",
      "execution_count": null,
      "metadata": {},
      "outputs": [],
      "source": [
        "# FIXME"
      ]
    },
    {
      "cell_type": "markdown",
      "metadata": {
        "id": "JdXytzUdKnwa"
      },
      "source": [
        "### Reverse lookup"
      ]
    },
    {
      "cell_type": "markdown",
      "metadata": {
        "id": "-h_Lq4JUKqN1"
      },
      "source": [
        "Exploring the intricate details of word vectors will be made possible through reverse lookup. Specifically, we're set to develop a reverse lookup function that identifies the words closest to a particular vector. Given that a straightforward approach (iterating through each word) would be inefficient, we're introducing a numpy-based solution that will meet our speed requirements"
      ]
    },
    {
      "cell_type": "code",
      "execution_count": 20,
      "metadata": {
        "colab": {
          "base_uri": "https://localhost:8080/"
        },
        "id": "8bYpNRmGJWbC",
        "outputId": "485c16ad-d679-4330-edc8-dc6c6bc7683b"
      },
      "outputs": [
        {
          "name": "stdout",
          "output_type": "stream",
          "text": [
            "['blue' 'bluecurls' 'bluishness' 'bluer' 'unblue' 'bluest' 'blueish'\n",
            " 'cyanol' 'bluely' 'gridelin' 'iridovirus' 'ceruleous' 'roygbiv'\n",
            " 'cyanophore' 'lazuline' 'berylline' 'acyanopia' 'bluing' 'blueness'\n",
            " 'chromostereopsis' 'umangite' 'red' 'yellowred' 'bluet' 'bluetit'\n",
            " 'purple' 'yellow' 'kumst' 'cerulean' 'purpre' 'mauvette' 'bepurple'\n",
            " 'bluish' 'purpureal' 'pyrrh' 'deredden' 'indigoidine' 'zaffre' 'argb'\n",
            " 'bloncket' 'turquoisey' 'puniceous' 'luteo' 'rubiform' 'xanthous'\n",
            " 'xanthochromic' 'crustaceorubin' 'tetronerythrin' 'vitellorubin'\n",
            " 'cyanophyll']\n"
          ]
        }
      ],
      "source": [
        "# drop things containing underscores (these are compound terms like \"young_man\" that our code will not use) and convert to matrix format for faster computation\n",
        "labels  = words.columns.values.tolist()\n",
        "labels = np.array([w for w in labels if isinstance(w,str) and w.isalpha()])\n",
        "wordsMatrix = words[labels].values\n",
        "\n",
        "# snipped to find the closest word (or vector)\n",
        "def find_closest_word(v, k = 1):\n",
        "    # FIXME\n",
        "\n",
        "# test with the 50 closest words to blue\n",
        "print(find_closest_word('blue', 50))"
      ]
    },
    {
      "cell_type": "markdown",
      "metadata": {
        "id": "SXETsQDFKy9v"
      },
      "source": [
        "### Small application"
      ]
    },
    {
      "cell_type": "markdown",
      "metadata": {
        "id": "qgt6-AqfMNt3"
      },
      "source": [
        "Imagine we have four related word vectors: vman, vwoman, vboy, and vgirl. Embracing the notion that \"relationships equate to directions,\" we can understand these relationships as vector equations. The transition from vman to vwoman should mirror the transition from vboy to vgirl, illustrating that vector subtraction reveals the direction of these relationships, expressed as:\n",
        "\n",
        "vwoman - vman = vgirl - vboy.\n",
        "\n",
        "Now, if we're faced with an analogy like man:woman::boy:?, aiming to discover the missing term, we can manipulate the formula above by adding vboy to each side, resulting in:\n",
        "\n",
        "v = vwoman - vman + vboy.\n",
        "\n",
        "In searching for the answer to our analogy, the target word should be the one whose vector is nearest to the calculated value of vwoman - vman + vboy."
      ]
    },
    {
      "cell_type": "markdown",
      "metadata": {
        "id": "y3FJeO7XMeN3"
      },
      "source": [
        "Implement now the analogy function solve this.\n",
        "\n",
        "This function is taking 3 words in parameters and find the closest word to `word1 - word2 + word3`"
      ]
    },
    {
      "cell_type": "code",
      "execution_count": 21,
      "metadata": {
        "id": "aVQFHLR6Kshj"
      },
      "outputs": [],
      "source": [
        "# A little snippet for analogies\n",
        "def analogy(w1,w2,w3, k = 1) :\n",
        "    # FIXME"
      ]
    },
    {
      "cell_type": "code",
      "execution_count": 22,
      "metadata": {
        "colab": {
          "base_uri": "https://localhost:8080/"
        },
        "id": "6pfFQ4jMMQwf",
        "outputId": "870d0f40-7b21-4a03-e3b0-ba1533a6a7a8"
      },
      "outputs": [
        {
          "name": "stdout",
          "output_type": "stream",
          "text": [
            "man : woman :: boy : ['girl' 'boy']\n",
            "short : tall :: shortest : ['tallest' 'tall']\n",
            "seattle : washington :: minneapolis : ['minnesota' 'minneapolis']\n"
          ]
        }
      ],
      "source": [
        "# A few examples\n",
        "analogy('man','woman','boy', 2)\n",
        "analogy('short','tall','shortest', 2)\n",
        "analogy('seattle','washington','minneapolis', 2)"
      ]
    },
    {
      "cell_type": "markdown",
      "metadata": {
        "id": "AAa_m4P0Mt_Q"
      },
      "source": [
        "### Visualization"
      ]
    },
    {
      "cell_type": "markdown",
      "metadata": {
        "id": "HuTA_MY4NDqg"
      },
      "source": [
        "We'll now implement a final key feature: the capability to automatically illustrate the behavior of a set of vectors by projecting them onto the most suitable pair of axes. For this task, we'll employ the sklearn library."
      ]
    },
    {
      "cell_type": "markdown",
      "metadata": {
        "id": "85XP2f1hNL3h"
      },
      "source": [
        "- Fetch the vectors for the input word list\n",
        "- Apply the PCA to reduce dimensions\n",
        "- Then plot the results"
      ]
    },
    {
      "cell_type": "code",
      "execution_count": 23,
      "metadata": {
        "colab": {
          "base_uri": "https://localhost:8080/",
          "height": 1000
        },
        "id": "UoN7mPGTMTe_",
        "outputId": "2720e40d-db53-46ed-c96e-ed3eaa485ef7"
      },
      "outputs": [
        {
          "data": {
            "image/png": "[encoded data removed]",
            "text/plain": [
              "<Figure size 1000x1000 with 1 Axes>"
            ]
          },
          "metadata": {},
          "output_type": "display_data"
        },
        {
          "data": {
            "image/png": "[encoded data removed]",
            "text/plain": [
              "<Figure size 1000x1000 with 1 Axes>"
            ]
          },
          "metadata": {},
          "output_type": "display_data"
        }
      ],
      "source": [
        "%matplotlib inline\n",
        "import matplotlib.pyplot as plt\n",
        "from sklearn.decomposition import PCA\n",
        "\n",
        "def pcaPlot(word_list) :\n",
        "    # FIXME\n",
        "\n",
        "pcaPlot(['fast','faster','fastest','slow','slower','slowest'])\n",
        "pcaPlot(['bird', 'cat', 'squirrel', 'dog', 'fish', 'helicopter', 'airplane', 'car', 'submarine', 'whale'])"
      ]
    },
    {
      "cell_type": "code",
      "execution_count": null,
      "metadata": {
        "id": "qO6G7HXeNGdB"
      },
      "outputs": [],
      "source": []
    }
  ],
  "metadata": {
    "colab": {
      "provenance": []
    },
    "kernelspec": {
      "display_name": "Python 3",
      "name": "python3"
    },
    "language_info": {
      "name": "python"
    }
  },
  "nbformat": 4,
  "nbformat_minor": 0
}
